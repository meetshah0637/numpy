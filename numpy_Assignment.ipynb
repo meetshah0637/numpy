{
 "cells": [
  {
   "cell_type": "markdown",
   "id": "f8b66296-e3ed-490a-a2cc-e8268967629a",
   "metadata": {},
   "source": [
    "1. What is a Python library? Why ^o we use Python libraries?\n",
    "=> It is a collection of codes which is already written and we can utilise those modules in our projects"
   ]
  },
  {
   "cell_type": "markdown",
   "id": "782e4549-31cf-4735-bd88-f25811686da3",
   "metadata": {},
   "source": [
    "2. What is the ^ifference between Numpy array an^ List?\n",
    "=> List is heterogenous in nature while numpy array is homogenous in nature"
   ]
  },
  {
   "cell_type": "markdown",
   "id": "02c06859-7f8a-42ab-9859-579886b83390",
   "metadata": {},
   "source": [
    "3. Fin^ the shape, size an^ ^imension of the following array?\n",
    "[[1, 2, 3, 4]\n",
    "[5, 6, 7, 8],\n",
    "[9, 10, 11, 12]]"
   ]
  },
  {
   "cell_type": "code",
   "execution_count": 5,
   "id": "f862717b-b812-4293-b09d-d27759e5cf7f",
   "metadata": {},
   "outputs": [
    {
     "data": {
      "text/plain": [
       "2"
      ]
     },
     "execution_count": 5,
     "metadata": {},
     "output_type": "execute_result"
    }
   ],
   "source": [
    "import numpy as np\n",
    "arr = np.array([[1,2,3,4], [5,6,7,8], [9,10,11,12]])\n",
    "arr.ndim"
   ]
  },
  {
   "cell_type": "code",
   "execution_count": 6,
   "id": "3d2fa101-fa95-45f8-94e2-8543fd121034",
   "metadata": {},
   "outputs": [
    {
     "data": {
      "text/plain": [
       "12"
      ]
     },
     "execution_count": 6,
     "metadata": {},
     "output_type": "execute_result"
    }
   ],
   "source": [
    "arr.size"
   ]
  },
  {
   "cell_type": "code",
   "execution_count": 7,
   "id": "6a6a9dc3-1d6a-4c2b-b1c6-6c6fba7c5151",
   "metadata": {},
   "outputs": [
    {
     "data": {
      "text/plain": [
       "dtype('int64')"
      ]
     },
     "execution_count": 7,
     "metadata": {},
     "output_type": "execute_result"
    }
   ],
   "source": [
    "arr.dtype"
   ]
  },
  {
   "cell_type": "code",
   "execution_count": 8,
   "id": "b788f987-213a-426e-931c-d96f7d6266b7",
   "metadata": {},
   "outputs": [
    {
     "data": {
      "text/plain": [
       "(3, 4)"
      ]
     },
     "execution_count": 8,
     "metadata": {},
     "output_type": "execute_result"
    }
   ],
   "source": [
    "arr.shape"
   ]
  },
  {
   "cell_type": "raw",
   "id": "ca69b590-a3ab-4501-a1c8-ee46f8dbc734",
   "metadata": {},
   "source": [
    "4. Write python co^e to access the first row of the following array?\n",
    "[[1, 2, 3, 4]\n",
    "[5, 6, 7, 8],\n",
    "[9, 10, 11, 12]]"
   ]
  },
  {
   "cell_type": "code",
   "execution_count": 9,
   "id": "efb60731-9365-4bea-886d-a85f961847cf",
   "metadata": {},
   "outputs": [],
   "source": [
    "arr2 = np.array([[1, 2, 3, 4],[5, 6, 7, 8],[9, 10, 11, 12]])"
   ]
  },
  {
   "cell_type": "code",
   "execution_count": 10,
   "id": "916daa3b-a57f-475d-9ce2-b150c2415f7d",
   "metadata": {},
   "outputs": [
    {
     "data": {
      "text/plain": [
       "array([[ 1,  2,  3,  4],\n",
       "       [ 5,  6,  7,  8],\n",
       "       [ 9, 10, 11, 12]])"
      ]
     },
     "execution_count": 10,
     "metadata": {},
     "output_type": "execute_result"
    }
   ],
   "source": [
    "arr2"
   ]
  },
  {
   "cell_type": "code",
   "execution_count": 11,
   "id": "fbadbf5b-33ae-4290-a18b-e7e134867446",
   "metadata": {},
   "outputs": [
    {
     "data": {
      "text/plain": [
       "array([1, 2, 3, 4])"
      ]
     },
     "execution_count": 11,
     "metadata": {},
     "output_type": "execute_result"
    }
   ],
   "source": [
    "arr2[0]"
   ]
  },
  {
   "cell_type": "raw",
   "id": "6e100fbf-899f-487a-a106-f1a40025b51f",
   "metadata": {},
   "source": [
    "5. How ^o you access the element at the thir^ row an^ fourth column from the given numpy array?\n",
    "[[1, 2, 3, 4]\n",
    "[5, 6, 7, 8],\n",
    "[9, 10, 11, 12]]"
   ]
  },
  {
   "cell_type": "code",
   "execution_count": 12,
   "id": "0c184543-805b-4c07-bd71-de29cc8994c8",
   "metadata": {},
   "outputs": [],
   "source": [
    "arr3 = np.array([[1, 2, 3, 4],[5, 6, 7, 8],[9, 10, 11, 12]])"
   ]
  },
  {
   "cell_type": "code",
   "execution_count": 13,
   "id": "1e905cb0-8330-480e-8f1d-6367666e5e7c",
   "metadata": {},
   "outputs": [
    {
     "data": {
      "text/plain": [
       "array([[ 1,  2,  3,  4],\n",
       "       [ 5,  6,  7,  8],\n",
       "       [ 9, 10, 11, 12]])"
      ]
     },
     "execution_count": 13,
     "metadata": {},
     "output_type": "execute_result"
    }
   ],
   "source": [
    "arr3"
   ]
  },
  {
   "cell_type": "code",
   "execution_count": 14,
   "id": "137fc5a2-d06a-4739-b48e-df0833e2c541",
   "metadata": {},
   "outputs": [
    {
     "data": {
      "text/plain": [
       "array([10, 11])"
      ]
     },
     "execution_count": 14,
     "metadata": {},
     "output_type": "execute_result"
    }
   ],
   "source": [
    "arr3[2,1:3]"
   ]
  },
  {
   "cell_type": "raw",
   "id": "69977b33-295e-4bde-b43f-81d2d12bac5d",
   "metadata": {},
   "source": [
    "6. Write co^e to extract all o^^-in^exe^ elements from the given numpy array?\n",
    "[[1, 2, 3, 4]\n",
    "[5, 6, 7, 8],\n",
    "[9, 10, 11, 12]]"
   ]
  },
  {
   "cell_type": "code",
   "execution_count": 15,
   "id": "2b0053d6-5d3b-489c-a05f-00fe95f3b321",
   "metadata": {},
   "outputs": [],
   "source": [
    "arr4 = np.array([[1, 2, 3, 4],[5, 6, 7, 8],[9, 10, 11, 12]])"
   ]
  },
  {
   "cell_type": "code",
   "execution_count": 16,
   "id": "6ecf0139-2104-4aa7-8bb5-76a09522910e",
   "metadata": {},
   "outputs": [
    {
     "data": {
      "text/plain": [
       "array([[ 1,  2,  3,  4],\n",
       "       [ 5,  6,  7,  8],\n",
       "       [ 9, 10, 11, 12]])"
      ]
     },
     "execution_count": 16,
     "metadata": {},
     "output_type": "execute_result"
    }
   ],
   "source": [
    "arr4"
   ]
  },
  {
   "cell_type": "code",
   "execution_count": 17,
   "id": "a2f4e279-a74f-4b7c-b494-56962548adc7",
   "metadata": {},
   "outputs": [
    {
     "data": {
      "text/plain": [
       "array([[ 1,  3],\n",
       "       [ 9, 11]])"
      ]
     },
     "execution_count": 17,
     "metadata": {},
     "output_type": "execute_result"
    }
   ],
   "source": [
    "arr4[::2,::2]"
   ]
  },
  {
   "cell_type": "raw",
   "id": "3a243a67-699e-4a0b-befd-53e0a423d8d6",
   "metadata": {},
   "source": [
    "7. How can you generate a ran^om 3x3 matrix with values between 0 an^ 1?"
   ]
  },
  {
   "cell_type": "code",
   "execution_count": 18,
   "id": "e7290786-1502-4ad7-b871-09c85489a3a2",
   "metadata": {},
   "outputs": [
    {
     "data": {
      "text/plain": [
       "array([[0, 1, 1],\n",
       "       [0, 0, 1]])"
      ]
     },
     "execution_count": 18,
     "metadata": {},
     "output_type": "execute_result"
    }
   ],
   "source": [
    "import random\n",
    "arr = np.random.randint(0,2,(2,3))\n",
    "arr"
   ]
  },
  {
   "cell_type": "raw",
   "id": "998171fe-58df-4d62-be94-6fccc1a0b3d6",
   "metadata": {},
   "source": [
    "8. Describe the ^ifference between np.ran^om.ran^ an^ np.ran^om.ran^n?"
   ]
  },
  {
   "cell_type": "code",
   "execution_count": 19,
   "id": "33a4ca81-d0be-4241-8a60-036936e5a358",
   "metadata": {},
   "outputs": [
    {
     "ename": "SyntaxError",
     "evalue": "invalid syntax (326867135.py, line 3)",
     "output_type": "error",
     "traceback": [
      "\u001b[0;36m  Cell \u001b[0;32mIn[19], line 3\u001b[0;36m\u001b[0m\n\u001b[0;31m    => Generatees a 2,3 matrix of random values\u001b[0m\n\u001b[0m    ^\u001b[0m\n\u001b[0;31mSyntaxError\u001b[0m\u001b[0;31m:\u001b[0m invalid syntax\n"
     ]
    }
   ],
   "source": [
    "arr = np.random.rand(2,3)\n",
    "arr\n",
    "=> Generatees a 2,3 matrix of random values"
   ]
  },
  {
   "cell_type": "code",
   "execution_count": null,
   "id": "13c62d88-123f-420a-94d5-e042260a7806",
   "metadata": {},
   "outputs": [],
   "source": [
    "arr1 = np.random.randn(2,3)\n",
    "arr1\n",
    "=>Generates a 2,3 matrix but with normal distribution"
   ]
  },
  {
   "cell_type": "raw",
   "id": "6c21d580-064d-4aab-bcd0-698fb54e321d",
   "metadata": {},
   "source": [
    "9. Write co^e to increase the ^imension of the following array?\n",
    "[[1, 2, 3, 4]\n",
    "[5, 6, 7, 8],\n",
    "[9, 10, 11, 12]]"
   ]
  },
  {
   "cell_type": "code",
   "execution_count": null,
   "id": "fb1e32c8-986e-402a-942e-b7fa0deb8d73",
   "metadata": {},
   "outputs": [],
   "source": [
    "arr3  = np.array([[1, 2, 3, 4],[5, 6, 7, 8],[9, 10, 11, 12]])\n",
    "arr4 = np.expand_dims(arr3, axis =1)\n",
    "arr4.shape"
   ]
  },
  {
   "cell_type": "raw",
   "id": "68fca669-ddde-4de3-90f1-9986da8fa04f",
   "metadata": {},
   "source": [
    "10. How to transpose the following array in NumPy?\n",
    "[[1, 2, 3, 4]\n",
    "[5, 6, 7, 8],\n",
    "[9, 10, 11, 12]]"
   ]
  },
  {
   "cell_type": "code",
   "execution_count": null,
   "id": "a11e85bb-b362-4bdd-a4e9-fbacfd705e4d",
   "metadata": {},
   "outputs": [],
   "source": [
    "arr = np.array([[1, 2, 3, 4],[5, 6, 7, 8],[9, 10, 11, 12]])\n",
    "arr2 = arr.T\n",
    "arr2"
   ]
  },
  {
   "cell_type": "raw",
   "id": "1edabedc-3341-4fb1-889f-05690ce753af",
   "metadata": {},
   "source": [
    "11. Consi^er the following matrix:\n",
    "Matrix A2 [[1, 2, 3, 4] [5, 6, 7, 8],[9, 10, 11, 12]]\n",
    "Matrix B2 [[1, 2, 3, 4] [5, 6, 7, 8],[9, 10, 11, 12]]\n",
    ",+ I(dex wiLe multiplicatio'\n",
    "]+ Matix multiplicatio'\n",
    "+ Add both the maticK\n",
    "-+ Subtact matix B om \n",
    "+ Diide Matix B by A"
   ]
  },
  {
   "cell_type": "code",
   "execution_count": null,
   "id": "6735e86a-b36a-459a-9bfc-b0fe24f5cac9",
   "metadata": {},
   "outputs": [],
   "source": [
    "arr1 =np.array([[1, 2, 3, 4],[5, 6, 7, 8],[9, 10, 11, 12]])\n",
    "arr2 = np.array([[1, 2, 3, 4],[5, 6, 7, 8],[9, 10, 11, 12]])"
   ]
  },
  {
   "cell_type": "code",
   "execution_count": null,
   "id": "f833186a-b42f-4045-8f55-5e3b11e7de8b",
   "metadata": {},
   "outputs": [],
   "source": [
    "arr1 * arr2"
   ]
  },
  {
   "cell_type": "code",
   "execution_count": null,
   "id": "47c1b0eb-ec51-48e1-ace3-62a74c78f0cb",
   "metadata": {},
   "outputs": [],
   "source": [
    "arr1 = np.array([[1, 2, 3, 4],[5, 6, 7, 8],[9, 10, 11, 12]])\n",
    "arr2 = np.array([[1, 2, 3, 4],[5, 6, 7, 8],[9, 10, 11, 12]])\n",
    "arr3 = arr1 @ arr2\n",
    "arr3\n",
    "# can't perfom matric multiplication"
   ]
  },
  {
   "cell_type": "code",
   "execution_count": 20,
   "id": "7d5354ec-ce37-4e78-8992-eb956d26d3a4",
   "metadata": {},
   "outputs": [
    {
     "data": {
      "text/plain": [
       "array([[ 2,  4,  6,  8],\n",
       "       [10, 12, 14, 16],\n",
       "       [18, 20, 22, 24]])"
      ]
     },
     "execution_count": 20,
     "metadata": {},
     "output_type": "execute_result"
    }
   ],
   "source": [
    "arr1 + arr2"
   ]
  },
  {
   "cell_type": "code",
   "execution_count": 22,
   "id": "02e5afd6-63a6-460b-8414-7912f6394c15",
   "metadata": {},
   "outputs": [
    {
     "data": {
      "text/plain": [
       "array([[0, 0, 0, 0],\n",
       "       [0, 0, 0, 0],\n",
       "       [0, 0, 0, 0]])"
      ]
     },
     "execution_count": 22,
     "metadata": {},
     "output_type": "execute_result"
    }
   ],
   "source": [
    "arr2 -arr1"
   ]
  },
  {
   "cell_type": "code",
   "execution_count": 23,
   "id": "a51ab720-edf6-460b-ba4f-20ee9bef37c2",
   "metadata": {},
   "outputs": [
    {
     "data": {
      "text/plain": [
       "array([[1., 1., 1., 1.],\n",
       "       [1., 1., 1., 1.],\n",
       "       [1., 1., 1., 1.]])"
      ]
     },
     "execution_count": 23,
     "metadata": {},
     "output_type": "execute_result"
    }
   ],
   "source": [
    "arr2 / arr1"
   ]
  },
  {
   "cell_type": "code",
   "execution_count": 24,
   "id": "8a1bfdcc-0b4d-4aa8-a982-61405620f22a",
   "metadata": {},
   "outputs": [
    {
     "ename": "NameError",
     "evalue": "name 'byteswap' is not defined",
     "output_type": "error",
     "traceback": [
      "\u001b[0;31m---------------------------------------------------------------------------\u001b[0m",
      "\u001b[0;31mNameError\u001b[0m                                 Traceback (most recent call last)",
      "Cell \u001b[0;32mIn[24], line 2\u001b[0m\n\u001b[1;32m      1\u001b[0m \u001b[38;5;66;03m#12. Which function in Numpy can be use^ to swap the byte or^er of an array?\u001b[39;00m\n\u001b[0;32m----> 2\u001b[0m \u001b[43mbyteswap\u001b[49m\n",
      "\u001b[0;31mNameError\u001b[0m: name 'byteswap' is not defined"
     ]
    }
   ],
   "source": [
    "#12. Which function in Numpy can be use^ to swap the byte or^er of an array?\n",
    "byteswap"
   ]
  },
  {
   "cell_type": "code",
   "execution_count": 25,
   "id": "d70bff41-2806-43ab-a0f5-1a2c85a649db",
   "metadata": {},
   "outputs": [
    {
     "ename": "SyntaxError",
     "evalue": "invalid syntax (861093888.py, line 2)",
     "output_type": "error",
     "traceback": [
      "\u001b[0;36m  Cell \u001b[0;32mIn[25], line 2\u001b[0;36m\u001b[0m\n\u001b[0;31m    =>compute the inverse of a square matrix.\u001b[0m\n\u001b[0m    ^\u001b[0m\n\u001b[0;31mSyntaxError\u001b[0m\u001b[0;31m:\u001b[0m invalid syntax\n"
     ]
    }
   ],
   "source": [
    "#13. What is the significance of the np.linalg.inv function?\n",
    "=>compute the inverse of a square matrix."
   ]
  },
  {
   "cell_type": "markdown",
   "id": "d53d9256-7a0c-40ee-b0a4-84f932cf9f63",
   "metadata": {},
   "source": [
    "#13. What is the significance of the np.linalg.inv function?\n",
    "=>It reshapes the data without changing the data inside the array. Whenever we reshape we have to amke sure the elemtns remains the same"
   ]
  },
  {
   "cell_type": "code",
   "execution_count": 30,
   "id": "c93633aa-8e45-4bda-a93b-a8cc2ff51a2e",
   "metadata": {},
   "outputs": [
    {
     "data": {
      "text/plain": [
       "array([[ 1,  2,  3,  4],\n",
       "       [ 5,  6,  7,  8],\n",
       "       [ 9, 10, 11, 12]])"
      ]
     },
     "execution_count": 30,
     "metadata": {},
     "output_type": "execute_result"
    }
   ],
   "source": [
    "# arr1.reshape(2,4,3)\n",
    "# arr1.shape\n",
    "arr1.reshape(6,2)\n",
    "arr1"
   ]
  },
  {
   "cell_type": "code",
   "execution_count": 31,
   "id": "f1853eb9-edba-4ad2-a0ac-728428f6fbcc",
   "metadata": {},
   "outputs": [
    {
     "data": {
      "text/plain": [
       "array([[ 6,  7,  8,  9],\n",
       "       [10, 11, 12, 13],\n",
       "       [14, 15, 16, 17]])"
      ]
     },
     "execution_count": 31,
     "metadata": {},
     "output_type": "execute_result"
    }
   ],
   "source": [
    "#15. What is broa^casting in Numpy?\n",
    "# => carrying out an operation on all the elements of the array\n",
    "arr1 + 5"
   ]
  }
 ],
 "metadata": {
  "kernelspec": {
   "display_name": "Python 3 (ipykernel)",
   "language": "python",
   "name": "python3"
  },
  "language_info": {
   "codemirror_mode": {
    "name": "ipython",
    "version": 3
   },
   "file_extension": ".py",
   "mimetype": "text/x-python",
   "name": "python",
   "nbconvert_exporter": "python",
   "pygments_lexer": "ipython3",
   "version": "3.10.8"
  }
 },
 "nbformat": 4,
 "nbformat_minor": 5
}
